{
 "cells": [
  {
   "cell_type": "markdown",
   "metadata": {},
   "source": [
    "<center>\n",
    "<img src=\"../../img/ods_stickers.jpg\" />\n",
    "    \n",
    "## [mlcourse.ai](https://mlcourse.ai) – Open Machine Learning Course \n",
    "Author: Arina Lopukhova (@erynn). Edited by [Yury Kashnitskiy](https://yorko.github.io) (@yorko) and Vadim Shestopalov (@vchulski). This material is subject to the terms and conditions of the [Creative Commons CC BY-NC-SA 4.0](https://creativecommons.org/licenses/by-nc-sa/4.0/) license. Free use is permitted for any non-commercial purpose."
   ]
  },
  {
   "cell_type": "markdown",
   "metadata": {},
   "source": [
    "# <center>Assignment #1. Fall 2019\n",
    "## <center>Exploratory data analysis of Olympic games with Pandas\n",
    "    \n",
    "<img src='../../img/olympic_logo.png' width=50%>"
   ]
  },
  {
   "cell_type": "markdown",
   "metadata": {},
   "source": [
    "Prior to working on the assignment, you'd better check out the corresponding course material:\n",
    " - [Exploratory data analysis with Pandas](https://nbviewer.jupyter.org/github/Yorko/mlcourse_open/blob/master/jupyter_english/topic01_pandas_data_analysis/topic1_pandas_data_analysis.ipynb?flush_cache=true), the same as an interactive web-based [Kaggle Kernel](https://www.kaggle.com/kashnitsky/topic-1-exploratory-data-analysis-with-pandas)\n",
    " - first lectures in mlcourse.ai [YouTube playlist ](https://www.youtube.com/watch?v=QKTuw4PNOsU&list=PLVlY_7IJCMJeRfZ68eVfEcu-UcN9BbwiX) \n",
    " - you can also practice with demo assignments, which are simpler and already shared with solutions: [A1 demo](https://www.kaggle.com/kashnitsky/a1-demo-pandas-and-uci-adult-dataset), [solution](https://www.kaggle.com/kashnitsky/a1-demo-pandas-and-uci-adult-dataset-solution)\n",
    "\n",
    "### Your task is to:\n",
    " 1. write code and perform computations in the cells below\n",
    " 2. choose answers in the [webform](https://docs.google.com/forms/d/1JxhQ9Bg4OpM3E5N47ZuRbILgDuMRbvEnUbDMZK8L-NU). Solutions will be shared only with those who've filled in this form \n",
    " 3. submit answers with some email and **remember it**! This will be your ID during the course. Specify your real full name in the form as well (no nicks allowed in the final top-100 [rating](https://mlcourse.ai/rating)). If in doubt, you can re-submit the form till the deadline for A1, no problem, but stick to only one email.\n",
    " \n",
    "### <center> Deadline for A1: 2019 September 15, 20:59 GMT (London time)\n",
    "    \n",
    "You'll get up to 10 credits for this assignment.\n",
    "\n",
    "### How to get help\n",
    "In [ODS Slack](https://opendatascience.slack.com) (if you still don't have access, fill in the [form](https://docs.google.com/forms/d/10HAN5huM996snUKjsNYyT_oOlm2uOsTKulKurb3oiNM/) mentioned on the mlcourse.ai main page), we have a channel **#mlcourse_ai_news** with announcements from the course team.\n",
    "You can discuss the course content freely in the **#mlcourse_ai** channel (we still have a huge Russian-speaking group, they have a separate channel **#mlcourse_ai_rus**).\n",
    "\n",
    "Here's how you reply in a thread (press this dialog icon to drill down into a thread):\n",
    "\n",
    "<img src=\"../../img/start_a_thread.png\" />\n",
    "\n",
    "Please stick to special threads *a1_q1-5_fall2019* and *a1_q6-10_fall2019* in **#mlcourse_ai_news** for your questions on A1. Help each other without sharing correct code and answers. Our TA **Vadim @vchulski** is there to help (only in the mentioned thread, do not write to him directly).\n",
    "\n",
    "Lastly, you can save useful messages by pinning them, further you can find pinned items on the top, just below the channel name:\n",
    "\n",
    "<img src=\"../../img/pinned_item.png\" />\n",
    "\n",
    "### Assignment \n",
    "__There are ten questions about 120 years of Olympic history in this task. Your task is to fill in the missing Python code and choose answers in [this web-form](https://docs.google.com/forms/d/1JxhQ9Bg4OpM3E5N47ZuRbILgDuMRbvEnUbDMZK8L-NU).__"
   ]
  },
  {
   "cell_type": "markdown",
   "metadata": {},
   "source": [
    "Download the file `athlete_events.csv` from [here](https://drive.google.com/file/d/1f5v6Z2ayc7h698FG_98wP5x1Y2zZQeox/view?usp=sharing) (scraped by [rgriffin](https://www.randigriffin.com/) from www.sports-reference.com). The dataset has the following features:\n",
    "\n",
    "- __ID__ - Unique number for each athlete\n",
    "- __Name__ - Athlete's name\n",
    "- __Sex__ - M or F\n",
    "- __Age__ - Integer\n",
    "- __Height__ - In centimeters\n",
    "- __Weight__ - In kilograms\n",
    "- __Team__ - Team name\n",
    "- __NOC__ - National Olympic Committee 3-letter code\n",
    "- __Games__ - Year and season\n",
    "- __Year__ - Integer\n",
    "- __Season__ - Summer or Winter\n",
    "- __City__ - Host city\n",
    "- __Sport__ - Sport\n",
    "- __Event__ - Event\n",
    "- __Medal__ - Gold, Silver, Bronze, or NA"
   ]
  },
  {
   "cell_type": "code",
   "execution_count": 174,
   "metadata": {
    "pycharm": {
     "is_executing": false
    }
   },
   "outputs": [],
   "source": [
    "import pandas as pd\n",
    "import numpy as np"
   ]
  },
  {
   "cell_type": "code",
   "execution_count": 42,
   "metadata": {
    "pycharm": {
     "is_executing": false
    }
   },
   "outputs": [],
   "source": [
    "# Change the path to the dataset file if needed. \n",
    "PATH = 'D:/a/mlcourse.ai/data/athlete_events.csv'"
   ]
  },
  {
   "cell_type": "code",
   "execution_count": 378,
   "outputs": [
    {
     "data": {
      "text/plain": "   ID                      Name Sex   Age  Height  Weight            Team  \\\n0   1                 A Dijiang   M  24.0   180.0    80.0           China   \n1   2                  A Lamusi   M  23.0   170.0    60.0           China   \n2   3       Gunnar Nielsen Aaby   M  24.0     NaN     NaN         Denmark   \n3   4      Edgar Lindenau Aabye   M  34.0     NaN     NaN  Denmark/Sweden   \n4   5  Christine Jacoba Aaftink   F  21.0   185.0    82.0     Netherlands   \n\n   NOC        Games  Year  Season       City          Sport  \\\n0  CHN  1992 Summer  1992  Summer  Barcelona     Basketball   \n1  CHN  2012 Summer  2012  Summer     London           Judo   \n2  DEN  1920 Summer  1920  Summer  Antwerpen       Football   \n3  DEN  1900 Summer  1900  Summer      Paris     Tug-Of-War   \n4  NED  1988 Winter  1988  Winter    Calgary  Speed Skating   \n\n                              Event Medal  \n0       Basketball Men's Basketball   NaN  \n1      Judo Men's Extra-Lightweight   NaN  \n2           Football Men's Football   NaN  \n3       Tug-Of-War Men's Tug-Of-War  Gold  \n4  Speed Skating Women's 500 metres   NaN  ",
      "text/html": "<div>\n<style scoped>\n    .dataframe tbody tr th:only-of-type {\n        vertical-align: middle;\n    }\n\n    .dataframe tbody tr th {\n        vertical-align: top;\n    }\n\n    .dataframe thead th {\n        text-align: right;\n    }\n</style>\n<table border=\"1\" class=\"dataframe\">\n  <thead>\n    <tr style=\"text-align: right;\">\n      <th></th>\n      <th>ID</th>\n      <th>Name</th>\n      <th>Sex</th>\n      <th>Age</th>\n      <th>Height</th>\n      <th>Weight</th>\n      <th>Team</th>\n      <th>NOC</th>\n      <th>Games</th>\n      <th>Year</th>\n      <th>Season</th>\n      <th>City</th>\n      <th>Sport</th>\n      <th>Event</th>\n      <th>Medal</th>\n    </tr>\n  </thead>\n  <tbody>\n    <tr>\n      <th>0</th>\n      <td>1</td>\n      <td>A Dijiang</td>\n      <td>M</td>\n      <td>24.0</td>\n      <td>180.0</td>\n      <td>80.0</td>\n      <td>China</td>\n      <td>CHN</td>\n      <td>1992 Summer</td>\n      <td>1992</td>\n      <td>Summer</td>\n      <td>Barcelona</td>\n      <td>Basketball</td>\n      <td>Basketball Men's Basketball</td>\n      <td>NaN</td>\n    </tr>\n    <tr>\n      <th>1</th>\n      <td>2</td>\n      <td>A Lamusi</td>\n      <td>M</td>\n      <td>23.0</td>\n      <td>170.0</td>\n      <td>60.0</td>\n      <td>China</td>\n      <td>CHN</td>\n      <td>2012 Summer</td>\n      <td>2012</td>\n      <td>Summer</td>\n      <td>London</td>\n      <td>Judo</td>\n      <td>Judo Men's Extra-Lightweight</td>\n      <td>NaN</td>\n    </tr>\n    <tr>\n      <th>2</th>\n      <td>3</td>\n      <td>Gunnar Nielsen Aaby</td>\n      <td>M</td>\n      <td>24.0</td>\n      <td>NaN</td>\n      <td>NaN</td>\n      <td>Denmark</td>\n      <td>DEN</td>\n      <td>1920 Summer</td>\n      <td>1920</td>\n      <td>Summer</td>\n      <td>Antwerpen</td>\n      <td>Football</td>\n      <td>Football Men's Football</td>\n      <td>NaN</td>\n    </tr>\n    <tr>\n      <th>3</th>\n      <td>4</td>\n      <td>Edgar Lindenau Aabye</td>\n      <td>M</td>\n      <td>34.0</td>\n      <td>NaN</td>\n      <td>NaN</td>\n      <td>Denmark/Sweden</td>\n      <td>DEN</td>\n      <td>1900 Summer</td>\n      <td>1900</td>\n      <td>Summer</td>\n      <td>Paris</td>\n      <td>Tug-Of-War</td>\n      <td>Tug-Of-War Men's Tug-Of-War</td>\n      <td>Gold</td>\n    </tr>\n    <tr>\n      <th>4</th>\n      <td>5</td>\n      <td>Christine Jacoba Aaftink</td>\n      <td>F</td>\n      <td>21.0</td>\n      <td>185.0</td>\n      <td>82.0</td>\n      <td>Netherlands</td>\n      <td>NED</td>\n      <td>1988 Winter</td>\n      <td>1988</td>\n      <td>Winter</td>\n      <td>Calgary</td>\n      <td>Speed Skating</td>\n      <td>Speed Skating Women's 500 metres</td>\n      <td>NaN</td>\n    </tr>\n  </tbody>\n</table>\n</div>"
     },
     "metadata": {},
     "output_type": "execute_result",
     "execution_count": 378
    }
   ],
   "source": [
    "data = pd.read_csv(PATH)\n",
    "data = data.drop_duplicates(['Name', 'Team', 'Year', 'Event'])\n",
    "data.head()"
   ],
   "metadata": {
    "collapsed": false,
    "pycharm": {
     "name": "#%%\n",
     "is_executing": false
    }
   }
  },
  {
   "cell_type": "markdown",
   "source": [
    "__1. How old were the youngest male and female participants of the 1992 Olympics?__\n",
    "\n",
    "*For discussions, please stick to [ODS Slack](https://opendatascience.slack.com/), channel #mlcourse_ai_news, pinned thread #a1_q1-5_fall2019*\n",
    "\n",
    "- 16 and 15\n",
    "- 14 and 13 \n",
    "- 13 and 11\n",
    "- 11 and 12"
   ],
   "metadata": {
    "collapsed": false
   }
  },
  {
   "cell_type": "code",
   "execution_count": 283,
   "outputs": [
    {
     "data": {
      "text/plain": "     ID                      Name   Age  Height  Weight     Team  NOC  \\\nSex                                                                     \nF     5  Aadjijatmiko Finarsih H.  12.0   136.0    30.0  Albania  AHO   \nM     1                 A Dijiang  11.0   140.0    45.0  Albania  AHO   \n\n           Games  Year  Season         City          Sport  \\\nSex                                                          \nF    1992 Summer  1992  Summer  Albertville  Alpine Skiing   \nM    1992 Summer  1992  Summer  Albertville  Alpine Skiing   \n\n                              Event  \nSex                                  \nF    Alpine Skiing Women's Combined  \nM      Alpine Skiing Men's Combined  ",
      "text/html": "<div>\n<style scoped>\n    .dataframe tbody tr th:only-of-type {\n        vertical-align: middle;\n    }\n\n    .dataframe tbody tr th {\n        vertical-align: top;\n    }\n\n    .dataframe thead th {\n        text-align: right;\n    }\n</style>\n<table border=\"1\" class=\"dataframe\">\n  <thead>\n    <tr style=\"text-align: right;\">\n      <th></th>\n      <th>ID</th>\n      <th>Name</th>\n      <th>Age</th>\n      <th>Height</th>\n      <th>Weight</th>\n      <th>Team</th>\n      <th>NOC</th>\n      <th>Games</th>\n      <th>Year</th>\n      <th>Season</th>\n      <th>City</th>\n      <th>Sport</th>\n      <th>Event</th>\n    </tr>\n    <tr>\n      <th>Sex</th>\n      <th></th>\n      <th></th>\n      <th></th>\n      <th></th>\n      <th></th>\n      <th></th>\n      <th></th>\n      <th></th>\n      <th></th>\n      <th></th>\n      <th></th>\n      <th></th>\n      <th></th>\n    </tr>\n  </thead>\n  <tbody>\n    <tr>\n      <th>F</th>\n      <td>5</td>\n      <td>Aadjijatmiko Finarsih H.</td>\n      <td>12.0</td>\n      <td>136.0</td>\n      <td>30.0</td>\n      <td>Albania</td>\n      <td>AHO</td>\n      <td>1992 Summer</td>\n      <td>1992</td>\n      <td>Summer</td>\n      <td>Albertville</td>\n      <td>Alpine Skiing</td>\n      <td>Alpine Skiing Women's Combined</td>\n    </tr>\n    <tr>\n      <th>M</th>\n      <td>1</td>\n      <td>A Dijiang</td>\n      <td>11.0</td>\n      <td>140.0</td>\n      <td>45.0</td>\n      <td>Albania</td>\n      <td>AHO</td>\n      <td>1992 Summer</td>\n      <td>1992</td>\n      <td>Summer</td>\n      <td>Albertville</td>\n      <td>Alpine Skiing</td>\n      <td>Alpine Skiing Men's Combined</td>\n    </tr>\n  </tbody>\n</table>\n</div>"
     },
     "metadata": {},
     "output_type": "execute_result",
     "execution_count": 283
    }
   ],
   "source": [
    "data[data.Year==1992].groupby('Sex').min()\n",
    "# F 12, M 11"
   ],
   "metadata": {
    "collapsed": false,
    "pycharm": {
     "name": "#%%\n",
     "is_executing": false
    }
   }
  },
  {
   "cell_type": "markdown",
   "source": [
    "__2. What was the percentage of male basketball players among all the male participants of the 2012 Olympics? Round the answer to the first decimal.__\n",
    "\n",
    "*Hint:* here and further if needed drop duplicated sportsmen to count only unique ones. \n",
    "\n",
    "*For discussions, please stick to [ODS Slack](https://opendatascience.slack.com/), channel #mlcourse_ai_news, pinned thread #a1_q1-5_fall2019*\n",
    "\n",
    "- 0.2\n",
    "- 1.5 \n",
    "- 2.5\n",
    "- 7.7"
   ],
   "metadata": {
    "collapsed": false
   }
  },
  {
   "cell_type": "code",
   "execution_count": 284,
   "outputs": [
    {
     "name": "stderr",
     "text": [
      "D:\\apps\\anaconda\\lib\\site-packages\\ipykernel_launcher.py:3: UserWarning: Boolean Series key will be reindexed to match DataFrame index.\n  This is separate from the ipykernel package so we can avoid doing imports until\n"
     ],
     "output_type": "stream"
    },
    {
     "data": {
      "text/plain": "2.4477307496175422"
     },
     "metadata": {},
     "output_type": "execute_result",
     "execution_count": 284
    }
   ],
   "source": [
    "male2012 = data[(data.Sex=='M') & (data.Year==2012)]\n",
    "male2012number = male2012.drop_duplicates(['Name', 'Team']).ID.count()\n",
    "basketballMale2012number = male2012[data.Sport=='Basketball'].drop_duplicates(['Name', 'Team']).ID.count()\n",
    "(basketballMale2012number / male2012number) * 100\n",
    "\n",
    "# 2.5"
   ],
   "metadata": {
    "collapsed": false,
    "pycharm": {
     "name": "#%%\n",
     "is_executing": false
    }
   }
  },
  {
   "cell_type": "markdown",
   "metadata": {},
   "source": [
    "__3. What are the mean and standard deviation of height for female tennis players who participated in the 2000 Olympics? Round the answer to the first decimal.__\n",
    "\n",
    "*For discussions, please stick to [ODS Slack](https://opendatascience.slack.com/), channel #mlcourse_ai_news, pinned thread #a1_q1-5_fall2019*\n",
    "\n",
    "- 171.8 and 6.5\n",
    "- 179.4 and 10\n",
    "- 180.7 and 6.7\n",
    "- 182.4 and 9.1 "
   ]
  },
  {
   "cell_type": "code",
   "execution_count": 387,
   "metadata": {
    "pycharm": {
     "is_executing": false
    }
   },
   "outputs": [
    {
     "data": {
      "text/plain": "             ID   Age  Height  Weight    Year\ncount      89.0  89.0    88.0    88.0    89.0\nmean    75533.0  23.3   171.8    61.7  2000.0\nstd     39460.7   3.4     6.6     6.3     0.0\nmin      4723.0  17.0   150.0    52.0  2000.0\n25%     42361.0  21.0   168.0    57.0  2000.0\n50%     75706.0  24.0   172.0    60.0  2000.0\n75%    108845.0  26.0   176.0    65.0  2000.0\nmax    135502.0  30.0   191.0    79.0  2000.0",
      "text/html": "<div>\n<style scoped>\n    .dataframe tbody tr th:only-of-type {\n        vertical-align: middle;\n    }\n\n    .dataframe tbody tr th {\n        vertical-align: top;\n    }\n\n    .dataframe thead th {\n        text-align: right;\n    }\n</style>\n<table border=\"1\" class=\"dataframe\">\n  <thead>\n    <tr style=\"text-align: right;\">\n      <th></th>\n      <th>ID</th>\n      <th>Age</th>\n      <th>Height</th>\n      <th>Weight</th>\n      <th>Year</th>\n    </tr>\n  </thead>\n  <tbody>\n    <tr>\n      <th>count</th>\n      <td>89.0</td>\n      <td>89.0</td>\n      <td>88.0</td>\n      <td>88.0</td>\n      <td>89.0</td>\n    </tr>\n    <tr>\n      <th>mean</th>\n      <td>75533.0</td>\n      <td>23.3</td>\n      <td>171.8</td>\n      <td>61.7</td>\n      <td>2000.0</td>\n    </tr>\n    <tr>\n      <th>std</th>\n      <td>39460.7</td>\n      <td>3.4</td>\n      <td>6.6</td>\n      <td>6.3</td>\n      <td>0.0</td>\n    </tr>\n    <tr>\n      <th>min</th>\n      <td>4723.0</td>\n      <td>17.0</td>\n      <td>150.0</td>\n      <td>52.0</td>\n      <td>2000.0</td>\n    </tr>\n    <tr>\n      <th>25%</th>\n      <td>42361.0</td>\n      <td>21.0</td>\n      <td>168.0</td>\n      <td>57.0</td>\n      <td>2000.0</td>\n    </tr>\n    <tr>\n      <th>50%</th>\n      <td>75706.0</td>\n      <td>24.0</td>\n      <td>172.0</td>\n      <td>60.0</td>\n      <td>2000.0</td>\n    </tr>\n    <tr>\n      <th>75%</th>\n      <td>108845.0</td>\n      <td>26.0</td>\n      <td>176.0</td>\n      <td>65.0</td>\n      <td>2000.0</td>\n    </tr>\n    <tr>\n      <th>max</th>\n      <td>135502.0</td>\n      <td>30.0</td>\n      <td>191.0</td>\n      <td>79.0</td>\n      <td>2000.0</td>\n    </tr>\n  </tbody>\n</table>\n</div>"
     },
     "metadata": {},
     "output_type": "execute_result",
     "execution_count": 387
    }
   ],
   "source": [
    "female2000tennis = data[(data.Year==2000) & (data.Sex=='F') & (data.Sport=='Tennis')]\\\n",
    "    .drop_duplicates(['Name', 'Team'])\n",
    "female2000tennis.describe().round(1)\n",
    "\n",
    "# 171.8 and 6.5"
   ]
  },
  {
   "cell_type": "markdown",
   "metadata": {},
   "source": [
    "__4. Find a sportsman who participated in the 2006 Olympics, with the highest weight among other participants of the same Olympics. What sport did he or she do?__\n",
    "\n",
    "*For discussions, please stick to [ODS Slack](https://opendatascience.slack.com/), channel #mlcourse_ai_news, pinned thread #a1_q1-5_fall2019*\n",
    "\n",
    "- Judo\n",
    "- Bobsleigh \n",
    "- Skeleton\n",
    "- Boxing"
   ]
  },
  {
   "cell_type": "code",
   "execution_count": 287,
   "metadata": {
    "pycharm": {
     "is_executing": false
    }
   },
   "outputs": [
    {
     "data": {
      "text/plain": "ID                           4476\nName            Patrick R. Antaki\nSex                             M\nAge                            41\nHeight                        185\nWeight                        127\nTeam                      Lebanon\nNOC                           LIB\nGames                 2006 Winter\nYear                         2006\nSeason                     Winter\nCity                       Torino\nSport                    Skeleton\nEvent     Skeleton Men's Skeleton\nMedal                         NaN\nName: 8102, dtype: object"
     },
     "metadata": {},
     "output_type": "execute_result",
     "execution_count": 287
    }
   ],
   "source": [
    "y2006=data[data.Year==2006]\n",
    "y2006.loc[y2006.Weight.idxmax()]\n",
    "\n",
    "# Skeleton"
   ]
  },
  {
   "cell_type": "markdown",
   "metadata": {},
   "source": [
    "__5. How many times did John Aalberg participate in the Olympics held in different years?__\n",
    "\n",
    "*For discussions, please stick to [ODS Slack](https://opendatascience.slack.com/), channel #mlcourse_ai_news, pinned thread #a1_q1-5_fall2019*\n",
    "\n",
    "- 0\n",
    "- 1 \n",
    "- 2\n",
    "- 3 "
   ]
  },
  {
   "cell_type": "code",
   "execution_count": 288,
   "metadata": {
    "pycharm": {
     "is_executing": false
    }
   },
   "outputs": [
    {
     "data": {
      "text/plain": "2"
     },
     "metadata": {},
     "output_type": "execute_result",
     "execution_count": 288
    }
   ],
   "source": [
    "data[data.Name=='John Aalberg'].drop_duplicates('Year').ID.count()\n",
    "\n",
    "# 2"
   ]
  },
  {
   "cell_type": "markdown",
   "metadata": {},
   "source": [
    "__6. How many gold medals in tennis did sportspeople from the Switzerland team win at the 2008 Olympics? Count every medal from every sportsperson.__\n",
    "\n",
    "*For discussions, please stick to [ODS Slack](https://opendatascience.slack.com/), channel #mlcourse_ai_news, pinned thread #a1_q6-10_fall2019*\n",
    "\n",
    "- 0\n",
    "- 1 \n",
    "- 2\n",
    "- 3 "
   ]
  },
  {
   "cell_type": "code",
   "execution_count": 289,
   "metadata": {
    "pycharm": {
     "is_executing": false
    }
   },
   "outputs": [
    {
     "data": {
      "text/plain": "2"
     },
     "metadata": {},
     "output_type": "execute_result",
     "execution_count": 289
    }
   ],
   "source": [
    "data[(data.Year==2008) & (data.Team=='Switzerland') & (data.Sport=='Tennis') & (data.Medal=='Gold')].ID.count()\n",
    "\n",
    "# 2"
   ]
  },
  {
   "cell_type": "markdown",
   "metadata": {},
   "source": [
    "__7. Is it true that Spain won fewer medals than Italy at the 2016 Olympics? Do not consider NaN values in _Medal_ column.__ \n",
    "\n",
    "*For discussions, please stick to [ODS Slack](https://opendatascience.slack.com/), channel #mlcourse_ai_news, pinned thread #a1_q6-10_fall2019*\n",
    "\n",
    "- Yes\n",
    "- No"
   ]
  },
  {
   "cell_type": "code",
   "execution_count": 346,
   "metadata": {
    "pycharm": {
     "is_executing": false
    }
   },
   "outputs": [
    {
     "name": "stderr",
     "text": [
      "D:\\apps\\anaconda\\lib\\site-packages\\ipykernel_launcher.py:2: UserWarning: Boolean Series key will be reindexed to match DataFrame index.\n  \n"
     ],
     "output_type": "stream"
    },
    {
     "data": {
      "text/plain": "True"
     },
     "metadata": {},
     "output_type": "execute_result",
     "execution_count": 346
    }
   ],
   "source": [
    "# .isna() == isnull()\n",
    "y2016medals = data[(data.Year==2016) & (data.Medal.notnull())]\n",
    "y2016medals[data.Team=='Spain'].ID.count() < y2016medals[data.Team=='Italy'].ID.count()\n",
    "\n",
    "# True"
   ]
  },
  {
   "cell_type": "markdown",
   "metadata": {},
   "source": [
    "__8. What age category did the fewest and the most participants of the 2008 Olympics belong to?__\n",
    "\n",
    "*For discussions, please stick to [ODS Slack](https://opendatascience.slack.com/), channel #mlcourse_ai_news, pinned thread #a1_q6-10_fall2019*\n",
    "\n",
    "- [45-55] and [25-35) correspondingly\n",
    "- [45-55] and [15-25) correspondingly\n",
    "- [35-45) and [25-35) correspondingly\n",
    "- [45-55] and [35-45) correspondingly"
   ]
  },
  {
   "cell_type": "code",
   "execution_count": 386,
   "metadata": {
    "pycharm": {
     "is_executing": false
    }
   },
   "outputs": [
    {
     "data": {
      "text/plain": "(Interval(45, 55, closed='left'), Interval(25, 35, closed='left'))"
     },
     "metadata": {},
     "output_type": "execute_result",
     "execution_count": 386
    }
   ],
   "source": [
    "# d = data.dropna(subset=['Age']) # pd.cut ignores NaNs\n",
    "y2008 = data[data.Year==2008].drop_duplicates(['Name', 'Team'])\n",
    "counts = y2008.groupby(pd.cut(y2008.Age, [15, 25, 35, 45, 55], right=False)).ID.count()\n",
    "counts.idxmin(), counts.idxmax()\n",
    "\n",
    "# [45-55] and [25-35) correspondingly"
   ]
  },
  {
   "cell_type": "markdown",
   "metadata": {},
   "source": [
    "__9. Is it true that there were Summer Olympics held in Atlanta? Is it true that there were Winter Olympics held in Squaw Valley?__\n",
    "\n",
    "*For discussions, please stick to [ODS Slack](https://opendatascience.slack.com/), channel #mlcourse_ai_news, pinned thread #a1_q6-10_fall2019*\n",
    "\n",
    "- Yes, Yes\n",
    "- Yes, No\n",
    "- No, Yes \n",
    "- No, No "
   ]
  },
  {
   "cell_type": "code",
   "execution_count": 363,
   "metadata": {
    "pycharm": {
     "is_executing": false
    }
   },
   "outputs": [
    {
     "data": {
      "text/plain": "(True, True)"
     },
     "metadata": {},
     "output_type": "execute_result",
     "execution_count": 363
    }
   ],
   "source": [
    "a = not data[(data.Season=='Summer') & (data.City=='Atlanta')].empty\n",
    "b = not data[(data.Season=='Winter') & (data.City=='Squaw Valley')].empty\n",
    "a, b\n",
    "\n",
    "# Yes, Yes"
   ]
  },
  {
   "cell_type": "markdown",
   "metadata": {},
   "source": [
    "__10. What is the absolute difference between the number of unique sports at the 1986 Olympics and 2002 Olympics?__\n",
    "\n",
    "*For discussions, please stick to [ODS Slack](https://opendatascience.slack.com/), channel #mlcourse_ai_news, pinned thread #a1_q6-10_fall2019*\n",
    "\n",
    "- 3 \n",
    "- 10\n",
    "- 15\n",
    "- 27 "
   ]
  },
  {
   "cell_type": "code",
   "execution_count": 383,
   "metadata": {
    "pycharm": {
     "is_executing": false
    }
   },
   "outputs": [
    {
     "data": {
      "text/plain": "15"
     },
     "metadata": {},
     "output_type": "execute_result",
     "execution_count": 383
    }
   ],
   "source": [
    "abs(data[data.Year==1986].Sport.nunique() - data[data.Year==2002].Sport.nunique())\n",
    "\n",
    "# 15"
   ]
  },
  {
   "cell_type": "markdown",
   "metadata": {},
   "source": [
    "That's it! Now go and do 30 push-ups! :)"
   ]
  }
 ],
 "metadata": {
  "kernelspec": {
   "display_name": "Python 3",
   "language": "python",
   "name": "python3"
  },
  "language_info": {
   "codemirror_mode": {
    "name": "ipython",
    "version": 3
   },
   "file_extension": ".py",
   "mimetype": "text/x-python",
   "name": "python",
   "nbconvert_exporter": "python",
   "pygments_lexer": "ipython3",
   "version": "3.7.3"
  },
  "pycharm": {
   "stem_cell": {
    "cell_type": "raw",
    "source": [],
    "metadata": {
     "collapsed": false
    }
   }
  }
 },
 "nbformat": 4,
 "nbformat_minor": 4
}